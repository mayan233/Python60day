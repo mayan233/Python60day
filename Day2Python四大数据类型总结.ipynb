{
 "cells": [
  {
   "cell_type": "markdown",
   "metadata": {},
   "source": [
    "# 基本数据类型"
   ]
  },
  {
   "cell_type": "markdown",
   "metadata": {},
   "source": [
    "## 数值型int float bool "
   ]
  },
  {
   "cell_type": "code",
   "execution_count": 4,
   "metadata": {},
   "outputs": [
    {
     "data": {
      "text/plain": [
       "(165, 1050.0)"
      ]
     },
     "execution_count": 4,
     "metadata": {},
     "output_type": "execute_result"
    }
   ],
   "source": [
    "0xa5,1.05e3"
   ]
  },
  {
   "cell_type": "markdown",
   "metadata": {},
   "source": [
    "## 容器型list tuple dict set"
   ]
  },
  {
   "cell_type": "code",
   "execution_count": 7,
   "metadata": {},
   "outputs": [
    {
     "data": {
      "text/plain": [
       "{'a': 1, 'b': 2, 'c': 3}"
      ]
     },
     "execution_count": 7,
     "metadata": {},
     "output_type": "execute_result"
    }
   ],
   "source": [
    "a_dict = dict(a=1,b=2,c=3)\n",
    "a_dict"
   ]
  },
  {
   "cell_type": "code",
   "execution_count": 29,
   "metadata": {},
   "outputs": [
    {
     "data": {
      "text/plain": [
       "5.0"
      ]
     },
     "execution_count": 29,
     "metadata": {},
     "output_type": "execute_result"
    }
   ],
   "source": [
    "##去最求平均\n",
    "def score_mean(lst):\n",
    "    lst.sort()\n",
    "    lst2= lst[1:-1]\n",
    "    return round(sum(lst2)/len(lst2),2)#保留小数点后两位\n",
    "list1 = [9,8,7,5,6,3,2,1,4]\n",
    "score_mean(list1)"
   ]
  },
  {
   "cell_type": "code",
   "execution_count": 32,
   "metadata": {},
   "outputs": [
    {
     "name": "stdout",
     "output_type": "stream",
     "text": [
      "\n",
      "1x1=1\t\n",
      "1x2=2\t2x2=4\t\n",
      "1x3=3\t2x3=6\t3x3=9\t\n",
      "1x4=4\t2x4=8\t3x4=12\t4x4=16\t\n",
      "1x5=5\t2x5=10\t3x5=15\t4x5=20\t5x5=25\t\n",
      "1x6=6\t2x6=12\t3x6=18\t4x6=24\t5x6=30\t6x6=36\t\n",
      "1x7=7\t2x7=14\t3x7=21\t4x7=28\t5x7=35\t6x7=42\t7x7=49\t\n",
      "1x8=8\t2x8=16\t3x8=24\t4x8=32\t5x8=40\t6x8=48\t7x8=56\t8x8=64\t\n",
      "1x9=9\t2x9=18\t3x9=27\t4x9=36\t5x9=45\t6x9=54\t7x9=63\t8x9=72\t9x9=81\t\n"
     ]
    }
   ],
   "source": [
    "## 99乘法表\n",
    "for i in range(10):\n",
    "    for j in range(1,i+1):\n",
    "        print('%dx%d=%d'%(j,i,j*i),end='\\t')\n",
    "    print()"
   ]
  },
  {
   "cell_type": "code",
   "execution_count": 35,
   "metadata": {},
   "outputs": [
    {
     "name": "stdout",
     "output_type": "stream",
     "text": [
      "[44, 4, 38, 46, 41]\n",
      "[26, 36, 45, 36, 7, 38, 20, 36, 14, 43]\n"
     ]
    }
   ],
   "source": [
    "##样本抽样\n",
    "from random import randint, sample\n",
    "lst = [randint(0,50) for _ in range(100)]\n",
    "print(lst[:5])#前五\n",
    "lst_sample = sample(lst,10)\n",
    "print(lst_sample)"
   ]
  },
  {
   "cell_type": "markdown",
   "metadata": {},
   "source": [
    "## 字符串"
   ]
  },
  {
   "cell_type": "code",
   "execution_count": 37,
   "metadata": {},
   "outputs": [
    {
     "data": {
      "text/plain": [
       "'   I love Python \\t\\n'"
      ]
     },
     "execution_count": 37,
     "metadata": {},
     "output_type": "execute_result"
    },
    {
     "data": {
      "text/plain": [
       "'I love Python'"
      ]
     },
     "execution_count": 37,
     "metadata": {},
     "output_type": "execute_result"
    }
   ],
   "source": [
    "#strip用于去除字符串前后空格\n",
    "'   I love Python \\t\\n'\n",
    "'   I love Python \\t\\n'.strip()"
   ]
  },
  {
   "cell_type": "code",
   "execution_count": 43,
   "metadata": {},
   "outputs": [
    {
     "data": {
      "text/plain": [
       "'I_love_Python'"
      ]
     },
     "execution_count": 43,
     "metadata": {},
     "output_type": "execute_result"
    }
   ],
   "source": [
    "## replace用于替换\n",
    "\"I love Python\".replace(' ' ,'_')"
   ]
  },
  {
   "cell_type": "code",
   "execution_count": 44,
   "metadata": {},
   "outputs": [
    {
     "data": {
      "text/plain": [
       "'book_store_count'"
      ]
     },
     "execution_count": 44,
     "metadata": {},
     "output_type": "execute_result"
    }
   ],
   "source": [
    "##join合并字符串\n",
    "'_'.join(['book','store','count'])"
   ]
  },
  {
   "cell_type": "code",
   "execution_count": 48,
   "metadata": {},
   "outputs": [
    {
     "data": {
      "text/plain": [
       "'I Love Python'"
      ]
     },
     "execution_count": 48,
     "metadata": {},
     "output_type": "execute_result"
    },
    {
     "data": {
      "text/plain": [
       "'i love python'"
      ]
     },
     "execution_count": 48,
     "metadata": {},
     "output_type": "execute_result"
    },
    {
     "data": {
      "text/plain": [
       "'I LOVE PYTHON'"
      ]
     },
     "execution_count": 48,
     "metadata": {},
     "output_type": "execute_result"
    }
   ],
   "source": [
    "##单词字母大写\n",
    "'i love python'.title()\n",
    "'I LOVE PYTHON'.lower()\n",
    "'i love python'.upper()"
   ]
  },
  {
   "cell_type": "code",
   "execution_count": 49,
   "metadata": {},
   "outputs": [
    {
     "data": {
      "text/plain": [
       "7"
      ]
     },
     "execution_count": 49,
     "metadata": {},
     "output_type": "execute_result"
    }
   ],
   "source": [
    "## 返回匹配字符串的起始索引\n",
    "'i love python'.find('python')"
   ]
  },
  {
   "cell_type": "code",
   "execution_count": 55,
   "metadata": {},
   "outputs": [
    {
     "name": "stdout",
     "output_type": "stream",
     "text": [
      "True\n",
      "False\n"
     ]
    }
   ],
   "source": [
    "##判断str1是否为str2旋转得到-->str1是否为str2+str2字串\n",
    "def is_rotation(s1:str,s2:str) -> bool:#只是提示该函数 输入参数 和 返回值 的数据类型方便程序员阅读代码的。\n",
    "    if s1 is None or s2 is None:\n",
    "        return False\n",
    "    if len(s1) != len(s2):\n",
    "        return False\n",
    "    def is_substring(s1:str,s2:str) -> bool:\n",
    "        return s1 in s2\n",
    "    return is_substring(s1,s2+s2)\n",
    "\n",
    "r = is_rotation('stringbook','bookstring')\n",
    "print(r)\n",
    "\n",
    "r = is_rotation('grateman','maneatgr')\n",
    "print(r)"
   ]
  },
  {
   "cell_type": "code",
   "execution_count": 3,
   "metadata": {},
   "outputs": [],
   "source": [
    "#密码6-20位，只包含英文字母和数字\n",
    "import re\n",
    "#pat = re.compile(r'\\w{6,20}')#错误，\\w是通配匹配符，包括数字字母下划线\n",
    "#\\d匹配数字\\a-z匹配所有大小写\\A-Z匹配所有小写\n",
    "pat = re.compile(r'[\\da-zA-Z]{6,20}')"
   ]
  },
  {
   "cell_type": "code",
   "execution_count": 4,
   "metadata": {},
   "outputs": [
    {
     "data": {
      "text/plain": [
       "<re.Match object; span=(0, 9), match='eurjfifdj'>"
      ]
     },
     "execution_count": 4,
     "metadata": {},
     "output_type": "execute_result"
    }
   ],
   "source": [
    "pat.fullmatch('qaz12')\n",
    "pat.fullmatch('qwee12312345423543543534534')\n",
    "pat.fullmatch('qaz_213')\n",
    "pat.fullmatch('eurjfifdj')"
   ]
  },
  {
   "cell_type": "markdown",
   "metadata": {},
   "source": [
    "# 自定义类型"
   ]
  },
  {
   "cell_type": "markdown",
   "metadata": {},
   "source": [
    "## 类（对象）"
   ]
  },
  {
   "cell_type": "code",
   "execution_count": 67,
   "metadata": {},
   "outputs": [
    {
     "data": {
      "text/plain": [
       "['__module__',\n",
       " '__dict__',\n",
       " '__weakref__',\n",
       " '__doc__',\n",
       " '__repr__',\n",
       " '__hash__',\n",
       " '__str__',\n",
       " '__getattribute__',\n",
       " '__setattr__',\n",
       " '__delattr__',\n",
       " '__lt__',\n",
       " '__le__',\n",
       " '__eq__',\n",
       " '__ne__',\n",
       " '__gt__',\n",
       " '__ge__',\n",
       " '__init__',\n",
       " '__new__',\n",
       " '__reduce_ex__',\n",
       " '__reduce__',\n",
       " '__subclasshook__',\n",
       " '__init_subclass__',\n",
       " '__format__',\n",
       " '__sizeof__',\n",
       " '__dir__',\n",
       " '__class__']"
      ]
     },
     "execution_count": 67,
     "metadata": {},
     "output_type": "execute_result"
    }
   ],
   "source": [
    "class Dog(object):\n",
    "    pass\n",
    "wangwang = Dog()\n",
    "wangwang.__dir__()"
   ]
  },
  {
   "cell_type": "code",
   "execution_count": 70,
   "metadata": {},
   "outputs": [
    {
     "data": {
      "text/plain": [
       "'wangwang'"
      ]
     },
     "execution_count": 70,
     "metadata": {},
     "output_type": "execute_result"
    },
    {
     "data": {
      "text/plain": [
       "'cute_dtype'"
      ]
     },
     "execution_count": 70,
     "metadata": {},
     "output_type": "execute_result"
    },
    {
     "name": "stdout",
     "output_type": "stream",
     "text": [
      "I'm wangwang, type:cute_dtype\n"
     ]
    }
   ],
   "source": [
    "class Dog(object):\n",
    "    def __init__(self, name, dtype):\n",
    "        self.name = name\n",
    "        self.dtype = dtype\n",
    "    def shout(self):\n",
    "        print('I\\'m %s, type:%s' % (self.name, self.dtype))\n",
    "wangwang = Dog('wangwang','cute_dtype')\n",
    "wangwang.name\n",
    "wangwang.dtype\n",
    "wangwang.shout()"
   ]
  },
  {
   "cell_type": "code",
   "execution_count": 71,
   "metadata": {},
   "outputs": [
    {
     "data": {
      "text/plain": [
       "'wrong_name'"
      ]
     },
     "execution_count": 71,
     "metadata": {},
     "output_type": "execute_result"
    }
   ],
   "source": [
    "##外界可以随意修改\n",
    "wangwang.name = 'wrong_name'\n",
    "wangwang.name"
   ]
  },
  {
   "cell_type": "code",
   "execution_count": 76,
   "metadata": {},
   "outputs": [
    {
     "data": {
      "text/plain": [
       "'wangwang'"
      ]
     },
     "execution_count": 76,
     "metadata": {},
     "output_type": "execute_result"
    }
   ],
   "source": [
    "##将name修改为私有变量：属性前加2个_,再用get_name访问\n",
    "class Dog(object):\n",
    "    def __init__(self, name, dtype):\n",
    "        self.__name = name\n",
    "        self.__dtype = dtype\n",
    "    def shout(self):\n",
    "        print('I\\'m %s, type:%s' % (self.name, self.dtype))\n",
    "    def get_name(self):\n",
    "        return self.__name\n",
    "wangwang = Dog('wangwang','cute_dtype')\n",
    "wangwang.get_name()\n"
   ]
  },
  {
   "cell_type": "code",
   "execution_count": 78,
   "metadata": {},
   "outputs": [
    {
     "data": {
      "text/plain": [
       "'magic_book'"
      ]
     },
     "execution_count": 78,
     "metadata": {},
     "output_type": "execute_result"
    }
   ],
   "source": [
    "##自带的property类使其变只读\n",
    "class Book(object):\n",
    "    def __init__(self,name,sale):\n",
    "        self.__name = name\n",
    "        self.__sale = sale\n",
    "    @property ##装饰器\n",
    "    def name(self):\n",
    "        return self.__name\n",
    "    ##.name就会返回真本书名字，而不是通过.name()调用方法，变为真正属性，可读性更好\n",
    "    \n",
    "a_book = Book('magic_book',1200)\n",
    "a_book.name"
   ]
  },
  {
   "cell_type": "code",
   "execution_count": 81,
   "metadata": {},
   "outputs": [
    {
     "data": {
      "text/plain": [
       "'magic_book_2.0'"
      ]
     },
     "execution_count": 81,
     "metadata": {},
     "output_type": "execute_result"
    }
   ],
   "source": [
    "##@name.setter即可读又可写\n",
    "class Book(object):\n",
    "    def __init__(self,name,sale):\n",
    "        self.__name = name\n",
    "        self.__sale = sale\n",
    "    @property ##装饰器\n",
    "    def name(self):\n",
    "        return self.__name\n",
    "    ##.name就会返回真本书名字，而不是通过.name()调用方法，变为真正属性，可读性更好\n",
    "    @name.setter\n",
    "    def name(self,newname):\n",
    "        self.__name = newname\n",
    "a_book = Book('magic_book',1200)\n",
    "a_book.name = 'magic_book_2.0'\n",
    "a_book.name"
   ]
  },
  {
   "cell_type": "code",
   "execution_count": null,
   "metadata": {},
   "outputs": [],
   "source": []
  }
 ],
 "metadata": {
  "kernelspec": {
   "display_name": "Python 3",
   "language": "python",
   "name": "python3"
  },
  "language_info": {
   "codemirror_mode": {
    "name": "ipython",
    "version": 3
   },
   "file_extension": ".py",
   "mimetype": "text/x-python",
   "name": "python",
   "nbconvert_exporter": "python",
   "pygments_lexer": "ipython3",
   "version": "3.7.3"
  },
  "toc": {
   "base_numbering": 1,
   "nav_menu": {},
   "number_sections": true,
   "sideBar": true,
   "skip_h1_title": false,
   "title_cell": "Table of Contents",
   "title_sidebar": "Contents",
   "toc_cell": false,
   "toc_position": {},
   "toc_section_display": true,
   "toc_window_display": false
  }
 },
 "nbformat": 4,
 "nbformat_minor": 2
}
