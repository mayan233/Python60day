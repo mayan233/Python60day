{
 "cells": [
  {
   "cell_type": "markdown",
   "metadata": {},
   "source": [
    "# 判断list内有无重复元素"
   ]
  },
  {
   "cell_type": "code",
   "execution_count": 1,
   "metadata": {},
   "outputs": [
    {
     "name": "stdout",
     "output_type": "stream",
     "text": [
      "True False\n"
     ]
    }
   ],
   "source": [
    "def is_duplicated(lst):\n",
    "    return len(lst) == len(set(lst))\n",
    "a = [1,2,3,4,5]\n",
    "b = [1,1,2,3]\n",
    "print(is_duplicated(a),is_duplicated(b))"
   ]
  },
  {
   "cell_type": "markdown",
   "metadata": {},
   "source": [
    "# 列表反转"
   ]
  },
  {
   "cell_type": "code",
   "execution_count": 2,
   "metadata": {},
   "outputs": [
    {
     "name": "stdout",
     "output_type": "stream",
     "text": [
      "[5, 4, 3, 2, 1]\n"
     ]
    }
   ],
   "source": [
    "def reverse(lst):\n",
    "    return lst[::-1]\n",
    "a = [1,2,3,4,5]\n",
    "print(reverse(a))"
   ]
  },
  {
   "cell_type": "markdown",
   "metadata": {},
   "source": [
    "# 找出重复元素"
   ]
  },
  {
   "cell_type": "code",
   "execution_count": 3,
   "metadata": {},
   "outputs": [
    {
     "name": "stdout",
     "output_type": "stream",
     "text": [
      "[1] [1, 2]\n"
     ]
    }
   ],
   "source": [
    "def find_duplicate(lst):\n",
    "    ret = []\n",
    "    for _ in lst:\n",
    "        if lst.count(_)>1 and _ not in ret:\n",
    "            ret.append(_)\n",
    "    return ret\n",
    "a = [1,2,3,4,1,1]\n",
    "b = [1,2,3,4,1,2]\n",
    "print(find_duplicate(a),find_duplicate(b))"
   ]
  },
  {
   "cell_type": "markdown",
   "metadata": {},
   "source": [
    "# 斐波那契数列"
   ]
  },
  {
   "cell_type": "code",
   "execution_count": 13,
   "metadata": {},
   "outputs": [
    {
     "name": "stdout",
     "output_type": "stream",
     "text": [
      "[1, 1, 2, 3, 5, 8]\n"
     ]
    }
   ],
   "source": [
    "def fibnacci(n):\n",
    "    if n <= 1:\n",
    "        return [1]\n",
    "    fib = [1,1]\n",
    "    while len(fib) < n:\n",
    "        fib.append(fib[len(fib)-1]+fib[len(fib)-2])\n",
    "    return fib\n",
    "print(fibnacci(6))"
   ]
  },
  {
   "cell_type": "code",
   "execution_count": 18,
   "metadata": {},
   "outputs": [
    {
     "name": "stdout",
     "output_type": "stream",
     "text": [
      "[1, 1, 2, 3, 5, 8]\n"
     ]
    }
   ],
   "source": [
    "def fibnacci(n):\n",
    "    a,b = 1,1\n",
    "    for _ in range(n):\n",
    "        yield a\n",
    "        a, b = b, a+b\n",
    "print(list(fibnacci(6)))"
   ]
  },
  {
   "cell_type": "markdown",
   "metadata": {},
   "source": [
    "# 出镜最多 （max的key，指定如何进行值的比较）"
   ]
  },
  {
   "cell_type": "code",
   "execution_count": 21,
   "metadata": {},
   "outputs": [
    {
     "name": "stdout",
     "output_type": "stream",
     "text": [
      "[1, 2, 3, 4, 1, 1, 2, 2]中出现次数最多的元素为1\n"
     ]
    }
   ],
   "source": [
    "def mode(lst):\n",
    "    if lst is None or len(lst)==0:\n",
    "        return None\n",
    "    return max(lst, key=lambda v:lst.count(v))\n",
    "lst = [1,2,3,4,1,1,2,2]\n",
    "r = mode(lst)\n",
    "print(f'{lst}中出现次数最多的元素为{r}')#发现2不太行"
   ]
  },
  {
   "cell_type": "code",
   "execution_count": 1,
   "metadata": {},
   "outputs": [
    {
     "name": "stdout",
     "output_type": "stream",
     "text": [
      "[1, 2, 3, 4, 1, 1, 2, 2]中出现次数最多的元素为[1, 2]\n"
     ]
    }
   ],
   "source": [
    "def mode(lst):\n",
    "    if lst is None or len(lst)==0:\n",
    "        return None\n",
    "    max_freq_elem = max(lst, key=lambda v: lst.count(v))\n",
    "    max_freq = lst.count(max_freq_elem)\n",
    "    ret  = []\n",
    "    for i in lst:\n",
    "        if i not in ret and lst.count(i) == max_freq:\n",
    "            ret.append(i)\n",
    "    return ret\n",
    "\n",
    "lst = [1,2,3,4,1,1,2,2]\n",
    "r = mode(lst)\n",
    "print(f'{lst}中出现次数最多的元素为{r}')"
   ]
  },
  {
   "cell_type": "markdown",
   "metadata": {},
   "source": [
    "# 更长列表 *"
   ]
  },
  {
   "cell_type": "code",
   "execution_count": 2,
   "metadata": {},
   "outputs": [
    {
     "name": "stdout",
     "output_type": "stream",
     "text": [
      "最长的列表是[1, 2, 3, 4, 5, 6]\n"
     ]
    }
   ],
   "source": [
    "def max_len(*lists):\n",
    "    return max(*lists, key=lambda v: len(v))\n",
    "\n",
    "r = max_len([1,2,3],[1,2,3,4],[1,2,3,4,5,6])\n",
    "print(f'最长的列表是{r}')"
   ]
  },
  {
   "cell_type": "markdown",
   "metadata": {},
   "source": [
    "# 求表头"
   ]
  },
  {
   "cell_type": "code",
   "execution_count": 3,
   "metadata": {},
   "outputs": [
    {
     "name": "stdout",
     "output_type": "stream",
     "text": [
      "None 1\n"
     ]
    }
   ],
   "source": [
    "def head(lst):\n",
    "    return lst[0] if len(lst)>0 else None\n",
    "\n",
    "print(head([]),head([1,2,3]))"
   ]
  },
  {
   "cell_type": "markdown",
   "metadata": {},
   "source": [
    "# 求表尾"
   ]
  },
  {
   "cell_type": "code",
   "execution_count": 4,
   "metadata": {},
   "outputs": [
    {
     "name": "stdout",
     "output_type": "stream",
     "text": [
      "None 3\n"
     ]
    }
   ],
   "source": [
    "def tail(lst):\n",
    "    return lst[-1] if len(lst)>1 else None\n",
    "\n",
    "print(tail([]),tail([1,2,3]))"
   ]
  },
  {
   "cell_type": "markdown",
   "metadata": {},
   "source": [
    "# 打印乘法表"
   ]
  },
  {
   "cell_type": "code",
   "execution_count": 14,
   "metadata": {},
   "outputs": [
    {
     "name": "stdout",
     "output_type": "stream",
     "text": [
      "1*1=1\t\n",
      "1*2=2\t2*2=4\t\n",
      "1*3=3\t2*3=6\t3*3=9\t\n",
      "1*4=4\t2*4=8\t3*4=12\t4*4=16\t\n",
      "1*5=5\t2*5=10\t3*5=15\t4*5=20\t5*5=25\t\n",
      "1*6=6\t2*6=12\t3*6=18\t4*6=24\t5*6=30\t6*6=36\t\n",
      "1*7=7\t2*7=14\t3*7=21\t4*7=28\t5*7=35\t6*7=42\t7*7=49\t\n",
      "1*8=8\t2*8=16\t3*8=24\t4*8=32\t5*8=40\t6*8=48\t7*8=56\t8*8=64\t\n",
      "1*9=9\t2*9=18\t3*9=27\t4*9=36\t5*9=45\t6*9=54\t7*9=63\t8*9=72\t9*9=81\t\n"
     ]
    }
   ],
   "source": [
    "def mul_tabel():\n",
    "    for i in range(1,10):\n",
    "        for j in range(1,i+1):\n",
    "            print(str(j)+'*'+str(i)+'='+str(i*j),end='\\t')\n",
    "        print()\n",
    "            \n",
    "mul_tabel()"
   ]
  },
  {
   "cell_type": "markdown",
   "metadata": {},
   "source": [
    "# 元素对"
   ]
  },
  {
   "cell_type": "markdown",
   "metadata": {},
   "source": [
    "t[:-1]：去掉原列表最后一个元素 \n",
    "\n",
    "t[1:]：去掉原列表第一个元素\n",
    "\n",
    "zip(iter1,iter2):实现iter1,iter2对应索引处元素拼接"
   ]
  },
  {
   "cell_type": "code",
   "execution_count": 15,
   "metadata": {},
   "outputs": [
    {
     "data": {
      "text/plain": [
       "[(1, 2), (2, 3)]"
      ]
     },
     "execution_count": 15,
     "metadata": {},
     "output_type": "execute_result"
    }
   ],
   "source": [
    "list(zip([1,2],[2,3]))"
   ]
  },
  {
   "cell_type": "code",
   "execution_count": 18,
   "metadata": {},
   "outputs": [
    {
     "name": "stdout",
     "output_type": "stream",
     "text": [
      "[(1, 2), (2, 3)]\n",
      "[(0, 1), (1, 2), (2, 3), (3, 4), (4, 5), (5, 6), (6, 7), (7, 8), (8, 9)]\n"
     ]
    }
   ],
   "source": [
    "def pair(lst):\n",
    "    return list(zip(lst[:-1],lst[1:]))\n",
    "\n",
    "print(pair([1,2,3]))\n",
    "print(pair(range(10)))"
   ]
  },
  {
   "cell_type": "markdown",
   "metadata": {},
   "source": [
    "# 样本抽样"
   ]
  },
  {
   "cell_type": "code",
   "execution_count": 20,
   "metadata": {},
   "outputs": [
    {
     "name": "stdout",
     "output_type": "stream",
     "text": [
      "[38, 19, 6, 19, 4]\n",
      "[40, 14, 19, 27, 46, 38, 25, 43, 23, 46]\n"
     ]
    }
   ],
   "source": [
    "from random import randint,sample\n",
    "lst = [randint(0,50) for _ in range(100)]\n",
    "print(lst[:5])\n",
    "lst_sample = sample(lst,10)\n",
    "print(lst_sample)"
   ]
  },
  {
   "cell_type": "markdown",
   "metadata": {},
   "source": [
    "# 冲洗数据集 random.shuffle\n",
    "此方法更改了原始列表/元组/字符串，它不返回新的列表/元组/字符串。"
   ]
  },
  {
   "cell_type": "code",
   "execution_count": 22,
   "metadata": {},
   "outputs": [
    {
     "name": "stdout",
     "output_type": "stream",
     "text": [
      "[5, 41, 38, 46, 49, 10, 0, 10, 7, 22]\n",
      "[10, 22, 10, 5, 41, 46, 7, 49, 38, 0]\n"
     ]
    }
   ],
   "source": [
    "from random import shuffle\n",
    "lst = [randint(0,50) for _ in range(10)]\n",
    "print(lst)\n",
    "shuffle(lst)\n",
    "print(lst)"
   ]
  },
  {
   "cell_type": "markdown",
   "metadata": {},
   "source": [
    "# 生成满足均匀分布的坐标点 random.unifrom"
   ]
  },
  {
   "cell_type": "code",
   "execution_count": 26,
   "metadata": {},
   "outputs": [
    {
     "name": "stdout",
     "output_type": "stream",
     "text": [
      "[5.42, 8.37, 9.4, 6.98, 5.0, 7.95, 0.82, 2.52, 3.03, 2.94, 2.77, 0.59, 7.08, 1.19, 7.5, 1.59, 8.66, 4.17, 4.3, 4.49, 7.48, 1.88, 5.23, 0.96, 9.18, 5.15, 9.84, 6.17, 6.67, 5.81, 4.36, 6.07, 4.37, 9.12, 8.73, 9.84, 0.45, 6.77, 9.14, 8.41, 9.24, 2.8, 5.36, 3.01, 6.63, 0.33, 1.53, 4.64, 8.69, 4.33, 8.79, 6.02, 5.87, 2.76, 0.52, 8.05, 6.01, 9.78, 1.04, 8.98, 6.93, 9.95, 7.62, 4.94, 1.84, 5.58, 0.85, 9.15, 7.45, 2.45, 6.78, 7.59, 4.47, 9.07, 7.28, 9.9, 5.7, 4.14, 8.77, 3.8, 9.64, 5.3, 2.45, 3.37, 4.33, 2.73, 2.38, 1.63, 0.3, 6.86, 1.02, 0.19, 0.4, 4.11, 3.86, 9.88, 3.82, 4.66, 5.73, 9.12]\n"
     ]
    }
   ],
   "source": [
    "from random import uniform\n",
    "x,y = [i for i in range(100)],[round(uniform(0,10),2) for _ in range(100)]\n",
    "print(y)"
   ]
  },
  {
   "cell_type": "code",
   "execution_count": 29,
   "metadata": {},
   "outputs": [],
   "source": [
    "from pyecharts.charts import Scatter\n",
    "import pyecharts.options as opt\n",
    "from random import uniform\n",
    "def draw_unifrom_points():\n",
    "    x,y = [i for i in range(100)], [round(uniform(0,10),2) for _ in range(100)]\n",
    "    c = (Scatter().add_xaxis(x).add_yaxis('y',y))\n",
    "    c.render()\n",
    "\n",
    "draw_unifrom_points()\n",
    "##会在本文件目录下生成一个 html文件   "
   ]
  },
  {
   "cell_type": "code",
   "execution_count": null,
   "metadata": {},
   "outputs": [],
   "source": []
  }
 ],
 "metadata": {
  "kernelspec": {
   "display_name": "Python 3",
   "language": "python",
   "name": "python3"
  },
  "language_info": {
   "codemirror_mode": {
    "name": "ipython",
    "version": 3
   },
   "file_extension": ".py",
   "mimetype": "text/x-python",
   "name": "python",
   "nbconvert_exporter": "python",
   "pygments_lexer": "ipython3",
   "version": "3.7.3"
  },
  "toc": {
   "base_numbering": 1,
   "nav_menu": {},
   "number_sections": true,
   "sideBar": true,
   "skip_h1_title": false,
   "title_cell": "Table of Contents",
   "title_sidebar": "Contents",
   "toc_cell": false,
   "toc_position": {},
   "toc_section_display": true,
   "toc_window_display": false
  }
 },
 "nbformat": 4,
 "nbformat_minor": 2
}
